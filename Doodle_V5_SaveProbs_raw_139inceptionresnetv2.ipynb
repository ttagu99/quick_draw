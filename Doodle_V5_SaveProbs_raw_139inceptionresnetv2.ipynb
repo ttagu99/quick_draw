{
 "cells": [
  {
   "cell_type": "markdown",
   "metadata": {
    "_cell_guid": "79c7e3d0-c299-4dcb-8224-4455121ee9b0",
    "_uuid": "d629ff2d2480ee46fbb7e2d37f6b5fab8052498a",
    "collapsed": true
   },
   "source": [
    "# fork. greyscale-mobilenet-lb-0-892"
   ]
  },
  {
   "cell_type": "markdown",
   "metadata": {
    "_uuid": "f7f2a9516140a84124bf7bbf538ee4c30860b778"
   },
   "source": [
    "## Setup\n",
    "Import the necessary libraries and a few helper functions."
   ]
  },
  {
   "cell_type": "code",
   "execution_count": 1,
   "metadata": {
    "_kg_hide-input": true,
    "_uuid": "ce6d2aa7de1fa341144def7d3a5b1ffdea26bc91"
   },
   "outputs": [
    {
     "name": "stderr",
     "output_type": "stream",
     "text": [
      "C:\\Anaconda3\\envs\\py35\\lib\\site-packages\\h5py\\__init__.py:36: FutureWarning: Conversion of the second argument of issubdtype from `float` to `np.floating` is deprecated. In future, it will be treated as `np.float64 == np.dtype(float).type`.\n",
      "  from ._conv import register_converters as _register_converters\n",
      "Using TensorFlow backend.\n"
     ]
    }
   ],
   "source": [
    "%matplotlib inline\n",
    "from IPython.core.interactiveshell import InteractiveShell\n",
    "InteractiveShell.ast_node_interactivity = \"all\"\n",
    "import os\n",
    "os.environ[\"CUDA_VISIBLE_DEVICES\"]=\"0\"\n",
    "import ast\n",
    "import datetime as dt\n",
    "import matplotlib.pyplot as plt\n",
    "plt.rcParams['figure.figsize'] = [16, 10]\n",
    "plt.rcParams['font.size'] = 14\n",
    "import random\n",
    "import seaborn as sns\n",
    "import cv2\n",
    "import pandas as pd\n",
    "import gc\n",
    "import numpy as np\n",
    "import tensorflow as tf\n",
    "from tensorflow import keras\n",
    "from keras.layers import Conv2D, MaxPooling2D\n",
    "from keras.layers import Dense, Dropout, Flatten, Activation,GlobalAveragePooling2D\n",
    "from keras.metrics import categorical_accuracy, top_k_categorical_accuracy, categorical_crossentropy\n",
    "from keras.models import Sequential,Model\n",
    "from keras.callbacks import EarlyStopping, ReduceLROnPlateau, ModelCheckpoint\n",
    "from keras.optimizers import Adam\n",
    "from keras.applications import *\n",
    "from keras.utils import to_categorical\n",
    "from keras.applications.mobilenet import preprocess_input\n",
    "from keras_tqdm import TQDMNotebookCallback\n",
    "import json\n",
    "start = dt.datetime.now()"
   ]
  },
  {
   "cell_type": "code",
   "execution_count": 2,
   "metadata": {
    "_kg_hide-input": true,
    "_uuid": "978b1e827e598c53df3ef09838a6d85591d83052",
    "collapsed": true
   },
   "outputs": [],
   "source": [
    "use_raw = True\n",
    "if use_raw ==True:\n",
    "    DP_DIR = './input/shuffle_raw_csvs_30k/'\n",
    "else:\n",
    "    DP_DIR = './input/shuffle_csvs_30k/'\n",
    "INPUT_DIR = './input/'\n",
    "\n",
    "BASE_SIZE = 256\n",
    "NCSVS = 100\n",
    "NCATS = 340\n",
    "np.random.seed(seed=2031)#파일순서\n",
    "tf.set_random_seed(seed=1987)\n",
    "\n",
    "def f2cat(filename: str) -> str:\n",
    "    return filename.split('.')[0]\n",
    "\n",
    "def list_all_categories():\n",
    "    files = os.listdir(os.path.join(INPUT_DIR, 'train_simplified'))\n",
    "    return sorted([f2cat(f) for f in files], key=str.lower)"
   ]
  },
  {
   "cell_type": "code",
   "execution_count": 3,
   "metadata": {
    "_kg_hide-input": true,
    "_uuid": "b2fcd1a08ae1ae0619be38a113a244eb6515b63b",
    "collapsed": true
   },
   "outputs": [],
   "source": [
    "def apk(actual, predicted, k=3):\n",
    "    \"\"\"\n",
    "    Source: https://github.com/benhamner/Metrics/blob/master/Python/ml_metrics/average_precision.py\n",
    "    \"\"\"\n",
    "    if len(predicted) > k:\n",
    "        predicted = predicted[:k]\n",
    "    score = 0.0\n",
    "    num_hits = 0.0\n",
    "    for i, p in enumerate(predicted):\n",
    "        if p in actual and p not in predicted[:i]:\n",
    "            num_hits += 1.0\n",
    "            score += num_hits / (i + 1.0)\n",
    "    if not actual:\n",
    "        return 0.0\n",
    "    return score / min(len(actual), k)\n",
    "\n",
    "def mapk(actual, predicted, k=3):\n",
    "    \"\"\"\n",
    "    Source: https://github.com/benhamner/Metrics/blob/master/Python/ml_metrics/average_precision.py\n",
    "    \"\"\"\n",
    "    return np.mean([apk(a, p, k) for a, p in zip(actual, predicted)])\n",
    "\n",
    "def preds2catids(predictions):\n",
    "    return pd.DataFrame(np.argsort(-predictions, axis=1)[:, :3], columns=['a', 'b', 'c'])\n",
    "\n",
    "def top_3_accuracy(y_true, y_pred):\n",
    "    return top_k_categorical_accuracy(y_true, y_pred, k=3)"
   ]
  },
  {
   "cell_type": "markdown",
   "metadata": {
    "_uuid": "264156422a95e4b350886d558d516ae8bd2e25c0"
   },
   "source": [
    "# Build Model"
   ]
  },
  {
   "cell_type": "code",
   "execution_count": 4,
   "metadata": {
    "_uuid": "54e5f0c637195b6624e2f3e6db5e7f8990e14eb7"
   },
   "outputs": [
    {
     "name": "stdout",
     "output_type": "stream",
     "text": [
      "weights/InceptionResNetV2_is_(139, 139, 3)_bs_180_lf_None_vf_66_ur_True.h5\n"
     ]
    }
   ],
   "source": [
    "ONE_EPOCH_IMGS = 6000000\n",
    "nbbone = 5\n",
    "backbones_str = ['MobileNet','ResNet50','Xception', 'DenseNet121','NASNetMobile','InceptionResNetV2']\n",
    "backbones = [MobileNet, ResNet50,  Xception, DenseNet121, NASNetMobile, InceptionResNetV2]\n",
    "bb_128max_batch = [256,128,128,128,256,180]\n",
    "batchsize = bb_128max_batch[nbbone]\n",
    "last_freeze_lnum = None\n",
    "STEPS = ONE_EPOCH_IMGS//batchsize\n",
    "EPOCHS = 16\n",
    "size = 139\n",
    "input_shape = (size,size,3)\n",
    "last_drop = 0.3\n",
    "valid_file_num = 66\n",
    "\n",
    "\n",
    "model_name = backbones_str[nbbone] + '_is_' + str(input_shape) + '_bs_' + str(batchsize) + '_lf_' + str(last_freeze_lnum)\n",
    "model_name += '_vf_' + str(valid_file_num) + '_ur_' + str(use_raw)\n",
    "weight_name = model_name + '.h5'\n",
    "best_save_model_file = 'weights/' + weight_name\n",
    "is_restart = True\n",
    "\n",
    "    \n",
    "print(best_save_model_file)\n",
    "\n",
    "callbacks = [EarlyStopping(monitor='val_loss',\n",
    "                           patience=3,\n",
    "                           verbose=1,\n",
    "                           min_delta=0.00001,\n",
    "                           mode='min'),\n",
    "             ReduceLROnPlateau(monitor='val_loss',\n",
    "                               factor=0.1,\n",
    "                               patience=2,\n",
    "                               verbose=1,\n",
    "                               min_delta=0.0001,\n",
    "                               mode='min'),\n",
    "             ModelCheckpoint(monitor='val_loss',save_weights_only=True,\n",
    "                             filepath=best_save_model_file,\n",
    "                             save_best_only=True,\n",
    "                             mode='min') ,\n",
    "             TQDMNotebookCallback(),          \n",
    "             ]"
   ]
  },
  {
   "cell_type": "code",
   "execution_count": 5,
   "metadata": {
    "collapsed": true
   },
   "outputs": [],
   "source": [
    "def build_model(backbone= MobileNet, input_shape = input_shape, use_imagenet = 'imagenet', base_freeze=False, last_freeze_lnum=None):\n",
    "    if input_shape[2]==1:\n",
    "        use_imagenet = None\n",
    "    else:\n",
    "        use_imagenet = use_imagenet\n",
    "    if backbone == MobileNet:\n",
    "        alpha = 1.0\n",
    "        base_model = backbone(input_shape=input_shape, alpha=1., weights=use_imagenet,include_top= False)#, classes=NCATS)\n",
    "    else:\n",
    "        base_model = backbone(input_shape=input_shape, weights=use_imagenet,include_top= False)#, classes=NCATS)\n",
    "\n",
    "    x = base_model.output\n",
    "    x = GlobalAveragePooling2D()(x)\n",
    "    x = Dense(1024, activation='relu')(x)\n",
    "    if last_drop != 0.0:\n",
    "        x = Dropout(last_drop)(x)\n",
    "    predictions = Dense(NCATS, activation='softmax', name='lastfc')(x)\n",
    "    model = Model(inputs=base_model.input, outputs=predictions)\n",
    "    if base_freeze == True:\n",
    "        for layer in base_model.layers:\n",
    "            layer.trainable = False\n",
    "    \n",
    "    if last_freeze_lnum is not None:\n",
    "         for i in range(len(model.layers)-last_freeze_lnum):\n",
    "            model.layers[i].trainable = False\n",
    "    model.compile(optimizer=Adam(lr=0.002), loss='categorical_crossentropy',\n",
    "                  metrics=[categorical_crossentropy, categorical_accuracy, top_3_accuracy]) \n",
    "\n",
    "    return model"
   ]
  },
  {
   "cell_type": "code",
   "execution_count": 6,
   "metadata": {
    "_kg_hide-output": true,
    "_uuid": "0860ec35bee03f0c5cd21202dc7471c2d201cf5f",
    "collapsed": true,
    "scrolled": false
   },
   "outputs": [],
   "source": [
    "model = build_model(backbone= backbones[nbbone], use_imagenet=None,input_shape = input_shape, last_freeze_lnum=last_freeze_lnum)\n",
    "#model.summary()"
   ]
  },
  {
   "cell_type": "markdown",
   "metadata": {
    "_uuid": "ab1834ea2757a53d602a3508efffcc34bc190dc7"
   },
   "source": [
    "## Training with Image Generator"
   ]
  },
  {
   "cell_type": "code",
   "execution_count": 7,
   "metadata": {
    "_uuid": "f6455bf9555b8381b6a4292098a64a0eb7ff54dc",
    "collapsed": true
   },
   "outputs": [],
   "source": [
    "def draw_cv2(raw_strokes, size=256, lw=6, time_color=True):\n",
    "    img = np.zeros((BASE_SIZE, BASE_SIZE), np.uint8)\n",
    "    for t, stroke in enumerate(raw_strokes):\n",
    "        for i in range(len(stroke[0]) - 1):\n",
    "            color = 255 - 245*t/len(raw_strokes) if time_color else 255 ## 순서\n",
    "            sx = stroke[0][i]\n",
    "            sy = stroke[1][i]\n",
    "            ex = stroke[0][i + 1]\n",
    "            ey = stroke[1][i + 1]\n",
    "            _ = cv2.line(img, (sx, sy), (ex, ey), color, lw)\n",
    "    if size != BASE_SIZE:\n",
    "        return cv2.resize(img, (size, size))\n",
    "    else:\n",
    "        return img\n",
    "    \n",
    "def draw_cv2_color(raw_strokes, size=256, lw=6, time_color=True):\n",
    "    img = np.zeros((BASE_SIZE, BASE_SIZE,3), np.uint8)\n",
    "    for t, stroke in enumerate(raw_strokes):     \n",
    "        inertia_x = 0\n",
    "        inertia_y = 0\n",
    "        for i in range(len(stroke[0]) - 1):\n",
    "            #color = 255 - min(t, 10) * 13 if time_color else 255 ## 순서\n",
    "            color = int(255 - 245*(float(t)/len(raw_strokes))) if time_color else 255 ## 순서 개선\n",
    "            print(color)\n",
    "            sx = stroke[0][i]\n",
    "            sy = stroke[1][i]\n",
    "            ex = stroke[0][i + 1]\n",
    "            ey = stroke[1][i + 1]\n",
    "            color_v =  (np.sqrt((sx-ex)*(sx-ex) + (sy-ey)*(sy-ey)) / np.sqrt(size*size)) * 255 ## 속력 (1~0)\n",
    "            color_a = (np.sqrt((inertia_x-ex)*(inertia_x-ex) + (inertia_y-ey)*(inertia_y-ey)) / np.sqrt(size*size*4)) * 255 ## 가속력 (1~0)\n",
    "            _ = cv2.line(img, (sx, sy), (ex, ey), (color,color_v,color_a), lw)\n",
    "            inertia_x = 2*ex -sx\n",
    "            inertia_y = 2*ey-sy\n",
    "            \n",
    "    if size != BASE_SIZE:\n",
    "        return cv2.resize(img, (size, size))\n",
    "    else:\n",
    "        return img\n",
    "\n",
    "\n",
    "## channel 순서, 속력, 가속력, 시작점 interval시간, 마지막 stroke 마지막 점 총 drawing시간\n",
    "def draw_cv2_color_new(raw_strokes, size=256, lw=6, time_color=True, last_drop_r = 0.0):\n",
    "    if use_raw ==False:\n",
    "        return draw_cv2_color(raw_strokes, size=size, lw=lw, time_color=time_color)\n",
    "    stx_min, sty_min = 99999, 99999\n",
    "    stx_max, sty_max = 0,0\n",
    "    #stt_se = 0  #처음 고민하는 시간 ?어떻게 반영? -> raw에도 없음. 0부터 시작됨.\n",
    "    ett=0  # 얼마나 빨리 완료하는가 20초 이하 \n",
    "    \n",
    "    for t, stroke in enumerate(raw_strokes):\n",
    "        if t == len(raw_strokes) -1:\n",
    "            #print(stroke)\n",
    "            ett = int(stroke[2][-1])\n",
    "        for i in range(len(stroke[0])):\n",
    "            stx_min = min(stx_min, int(stroke[0][i]))\n",
    "            stx_max = max(stx_max, int(stroke[0][i]))\n",
    "            sty_min = min(sty_min, int(stroke[1][i]))\n",
    "            sty_max = max(sty_max, int(stroke[1][i]))\n",
    "    \n",
    "    limit_ett = 20*1000   \n",
    "    ofs = 15\n",
    "    \n",
    "    if int(sty_max-sty_min+2*ofs) > 6000 or int(stx_max-stx_min+2*ofs)  > 6000:\n",
    "        img = np.zeros((6000,6000,3), np.uint8)\n",
    "    else:\n",
    "        img = np.zeros((int(sty_max-sty_min+2*ofs), int(stx_max-stx_min+2*ofs),3), np.uint8)\n",
    "\n",
    "        \n",
    "    for t, stroke in enumerate(raw_strokes):     \n",
    "        inertia_x = 0\n",
    "        inertia_y = 0\n",
    "        pre_st_t = 0 \n",
    "        for i in range(len(stroke[0]) - 1):\n",
    "            #color = 255 - min(t, 10) * 13 if time_color else 255 ## 순서\n",
    "            color = int(255 - 245*float(t)/len(raw_strokes)) if time_color else 255 ## 순서 개선\n",
    "            sx = int(stroke[0][i]) - stx_min +ofs\n",
    "            sy = int(stroke[1][i]) - sty_min +ofs\n",
    "            st = stroke[2][i]\n",
    "            ex = int(stroke[0][i + 1])- stx_min +ofs\n",
    "            ey = int(stroke[1][i + 1])- sty_min +ofs\n",
    "            et = stroke[2][i+1]\n",
    "            \n",
    "            \n",
    "            time = et-st\n",
    "            if time ==0:\n",
    "                time = 1\n",
    "            \n",
    "            color_v =  min(int((np.sqrt((sx-ex)*(sx-ex) + (sy-ey)*(sy-ey)) / time)*255.0), 255) ## 속력\n",
    "            color_a = min(int((np.sqrt((inertia_x-ex)*(inertia_x-ex) + (inertia_y-ey)*(inertia_y-ey)) / np.sqrt(time*time))*255.0), 255) ## 가속력 (1~0)\n",
    "            _ = cv2.line(img, (sx, sy), (ex, ey), (color,color_v,color_a), lw)\n",
    "            \n",
    "            if i==0:\n",
    "                color_inter = int((float(et-pre_st_t)/limit_ett)*245)+10\n",
    "                _ = cv2.circle(img, (sx, sy), lw, (0,0,color_inter), -1) ##interval time\n",
    "            \n",
    "            if i==len(stroke[0])-2 and t == len(raw_strokes) -1:\n",
    "                color_end = int((float(ett)/(limit_ett)*245))+10\n",
    "\n",
    "                _ = cv2.circle(img, (sx, sy), lw, (0,color_end,0), -1) ##end time\n",
    "                \n",
    "            inertia_x = 2*ex -sx\n",
    "            inertia_y = 2*ey-sy\n",
    "            pre_st_t=et\n",
    "            \n",
    "    return cv2.resize(img, (size, size)) #lw에 그림을 얼마나 크게 그렸는지 반영, 가로세로 비율도 반영됨\n",
    "\n",
    "    \n",
    "def image_generator_train(size, batchsize, vn, lw=6, time_color=True, channels=1):\n",
    "    while True:\n",
    "        for k in np.random.permutation(NCSVS):\n",
    "            if k==vn:\n",
    "                continue\n",
    "            filename = os.path.join(DP_DIR, 'train_k{}.csv.gz'.format(k))\n",
    "            for df in pd.read_csv(filename, chunksize=batchsize):\n",
    "                df['drawing'] = df['drawing'].apply(json.loads)\n",
    "                \n",
    "                x = np.zeros((len(df), size, size, channels))\n",
    "                for i, raw_strokes in enumerate(df.drawing.values):\n",
    "                    if channels ==1:\n",
    "                        x[i, :, :, 0] = draw_cv2(raw_strokes, size=size, lw=lw,\n",
    "                                                 time_color=time_color)\n",
    "                    else:\n",
    "                        x[i, :, :, ] = draw_cv2_color_new(raw_strokes, size=size, lw=lw,\n",
    "                                                 time_color=time_color)                        \n",
    "                x = preprocess_input(x).astype(np.float32)\n",
    "                y = keras.utils.to_categorical(df.y, num_classes=NCATS)\n",
    "                yield x, y\n",
    "\n",
    "def image_generator_val(size, batchsize, vn, lw=6, time_color=True, channels=1):\n",
    "    while True:\n",
    "        filename = os.path.join(DP_DIR, 'train_k{}.csv.gz'.format(vn))\n",
    "        for df in pd.read_csv(filename, chunksize=batchsize):\n",
    "            df['drawing'] = df['drawing'].apply(json.loads)\n",
    "            x = np.zeros((len(df), size, size, channels))\n",
    "            for i, raw_strokes in enumerate(df.drawing.values):\n",
    "                if channels ==1:\n",
    "                    x[i, :, :, 0] = draw_cv2(raw_strokes, size=size, lw=lw,\n",
    "                                             time_color=time_color)\n",
    "                else:\n",
    "                    x[i, :, :, ] = draw_cv2_color_new(raw_strokes, size=size, lw=lw,\n",
    "                                             time_color=time_color)                        \n",
    "            x = preprocess_input(x).astype(np.float32)\n",
    "            y = keras.utils.to_categorical(df.y, num_classes=NCATS)\n",
    "            yield x, y                \n",
    "                \n",
    "def df_to_image_array_xd(df, size, lw=6, time_color=True, channels=1):\n",
    "    df['drawing'] = df['drawing'].apply(json.loads)\n",
    "    x = np.zeros((len(df), size, size, channels))\n",
    "    for i, raw_strokes in enumerate(df.drawing.values):\n",
    "        if channels ==1:\n",
    "            x[i, :, :, 0] = draw_cv2(raw_strokes, size=size, lw=lw,\n",
    "                                     time_color=time_color)\n",
    "        else:\n",
    "            x[i, :, :, ] = draw_cv2_color_new(raw_strokes, size=size, lw=lw,\n",
    "                                     time_color=time_color)   \n",
    "    x = preprocess_input(x).astype(np.float32)\n",
    "    return x"
   ]
  },
  {
   "cell_type": "code",
   "execution_count": 8,
   "metadata": {},
   "outputs": [
    {
     "data": {
      "text/html": [
       "<div>\n",
       "<style scoped>\n",
       "    .dataframe tbody tr th:only-of-type {\n",
       "        vertical-align: middle;\n",
       "    }\n",
       "\n",
       "    .dataframe tbody tr th {\n",
       "        vertical-align: top;\n",
       "    }\n",
       "\n",
       "    .dataframe thead th {\n",
       "        text-align: right;\n",
       "    }\n",
       "</style>\n",
       "<table border=\"1\" class=\"dataframe\">\n",
       "  <thead>\n",
       "    <tr style=\"text-align: right;\">\n",
       "      <th></th>\n",
       "      <th>countrycode</th>\n",
       "      <th>drawing</th>\n",
       "      <th>recognized</th>\n",
       "      <th>timestamp</th>\n",
       "      <th>word</th>\n",
       "      <th>y</th>\n",
       "      <th>cv</th>\n",
       "    </tr>\n",
       "  </thead>\n",
       "  <tbody>\n",
       "    <tr>\n",
       "      <th>0</th>\n",
       "      <td>CA</td>\n",
       "      <td>[[[464, 471, 477, 485, 490, 496, 502, 507, 513...</td>\n",
       "      <td>True</td>\n",
       "      <td>2017-03-02 01:58:43.419520</td>\n",
       "      <td>envelope</td>\n",
       "      <td>103</td>\n",
       "      <td>0</td>\n",
       "    </tr>\n",
       "    <tr>\n",
       "      <th>1</th>\n",
       "      <td>AR</td>\n",
       "      <td>[[[397, 403, 409, 410, 409, 408, 407, 406, 405...</td>\n",
       "      <td>True</td>\n",
       "      <td>2017-04-02 15:20:57.135890</td>\n",
       "      <td>horse</td>\n",
       "      <td>146</td>\n",
       "      <td>0</td>\n",
       "    </tr>\n",
       "    <tr>\n",
       "      <th>2</th>\n",
       "      <td>US</td>\n",
       "      <td>[[[639, 644, 650, 656, 663, 670, 677, 682, 687...</td>\n",
       "      <td>True</td>\n",
       "      <td>2017-03-10 16:30:11.535640</td>\n",
       "      <td>waterslide</td>\n",
       "      <td>330</td>\n",
       "      <td>0</td>\n",
       "    </tr>\n",
       "    <tr>\n",
       "      <th>3</th>\n",
       "      <td>VN</td>\n",
       "      <td>[[[120, 125, 130, 135, 140, 147, 154, 163, 168...</td>\n",
       "      <td>False</td>\n",
       "      <td>2017-03-07 10:23:29.720240</td>\n",
       "      <td>sandwich</td>\n",
       "      <td>244</td>\n",
       "      <td>0</td>\n",
       "    </tr>\n",
       "    <tr>\n",
       "      <th>4</th>\n",
       "      <td>US</td>\n",
       "      <td>[[[985, 987, 989, 990, 991, 993, 993, 993, 993...</td>\n",
       "      <td>True</td>\n",
       "      <td>2017-03-22 04:46:50.169780</td>\n",
       "      <td>penguin</td>\n",
       "      <td>215</td>\n",
       "      <td>0</td>\n",
       "    </tr>\n",
       "  </tbody>\n",
       "</table>\n",
       "</div>"
      ],
      "text/plain": [
       "  countrycode                                            drawing  recognized  \\\n",
       "0          CA  [[[464, 471, 477, 485, 490, 496, 502, 507, 513...        True   \n",
       "1          AR  [[[397, 403, 409, 410, 409, 408, 407, 406, 405...        True   \n",
       "2          US  [[[639, 644, 650, 656, 663, 670, 677, 682, 687...        True   \n",
       "3          VN  [[[120, 125, 130, 135, 140, 147, 154, 163, 168...       False   \n",
       "4          US  [[[985, 987, 989, 990, 991, 993, 993, 993, 993...        True   \n",
       "\n",
       "                    timestamp        word    y  cv  \n",
       "0  2017-03-02 01:58:43.419520    envelope  103   0  \n",
       "1  2017-04-02 15:20:57.135890       horse  146   0  \n",
       "2  2017-03-10 16:30:11.535640  waterslide  330   0  \n",
       "3  2017-03-07 10:23:29.720240    sandwich  244   0  \n",
       "4  2017-03-22 04:46:50.169780     penguin  215   0  "
      ]
     },
     "execution_count": 8,
     "metadata": {},
     "output_type": "execute_result"
    },
    {
     "data": {
      "text/plain": [
       "<matplotlib.image.AxesImage at 0x6c0ae2b0>"
      ]
     },
     "execution_count": 8,
     "metadata": {},
     "output_type": "execute_result"
    },
    {
     "data": {
      "image/png": "[encoded data removed]",
      "text/plain": [
       "<matplotlib.figure.Figure at 0x7736afd0>"
      ]
     },
     "metadata": {},
     "output_type": "display_data"
    }
   ],
   "source": [
    "tt_df = pd.read_csv(os.path.join(DP_DIR, 'train_k{}.csv.gz'.format(0)))\n",
    "tt_df.head()\n",
    "\n",
    "\n",
    "tt = json.loads(tt_df.drawing.values[17])\n",
    "aimg = draw_cv2_color_new(tt)\n",
    "plt.imshow(aimg)#, cmap='gray')\n",
    "plt.show()"
   ]
  },
  {
   "cell_type": "code",
   "execution_count": 9,
   "metadata": {
    "_uuid": "d80ad7f4d378ea7f30479221d604eeeed559cae4"
   },
   "outputs": [
    {
     "data": {
      "text/plain": [
       "1179"
      ]
     },
     "execution_count": 9,
     "metadata": {},
     "output_type": "execute_result"
    },
    {
     "name": "stdout",
     "output_type": "stream",
     "text": [
      "495969 180\n"
     ]
    }
   ],
   "source": [
    "\n",
    "train_datagen = image_generator_train(size=size, batchsize=batchsize, vn=valid_file_num,channels=input_shape[2])\n",
    "valid_datagen = image_generator_val(size=size, batchsize=batchsize, vn=valid_file_num,channels=input_shape[2])\n",
    "filename = os.path.join(DP_DIR, 'train_k{}.csv.gz'.format(valid_file_num))\n",
    "v_df = pd.read_csv(filename)\n",
    "num_val = v_df.shape[0]\n",
    "v_df=None\n",
    "gc.collect()\n",
    "print(num_val, batchsize)"
   ]
  },
  {
   "cell_type": "code",
   "execution_count": 10,
   "metadata": {
    "collapsed": true
   },
   "outputs": [],
   "source": [
    "if is_restart == True:\n",
    "    model.load_weights(best_save_model_file)\n",
    "\n",
    "model.load_weights('weights/InceptionResNetV2_is_(256, 256, 3)_bs_40_vf_0.h5')"
   ]
  },
  {
   "cell_type": "code",
   "execution_count": null,
   "metadata": {},
   "outputs": [
    {
     "name": "stdout",
     "output_type": "stream",
     "text": [
      "batchsize 180 save path weights/InceptionResNetV2_is_(139, 139, 3)_bs_180_lf_None_vf_66_ur_True.h5\n"
     ]
    }
   ],
   "source": [
    "hists=[]\n",
    "print('batchsize', batchsize, 'save path', best_save_model_file)\n",
    "train_datagen = image_generator_train(size=size, batchsize=batchsize, vn=valid_file_num,channels=input_shape[2])\n",
    "valid_datagen = image_generator_val(size=size, batchsize=batchsize, vn=valid_file_num,channels=input_shape[2])\n"
   ]
  },
  {
   "cell_type": "code",
   "execution_count": null,
   "metadata": {
    "_kg_hide-input": true,
    "_kg_hide-output": true,
    "_uuid": "ada344bf3454765298e7b7ed7861c82bca2d2084"
   },
   "outputs": [
    {
     "data": {
      "application/vnd.jupyter.widget-view+json": {
       "model_id": "dd004bdf2589407b94a709caf18ef715",
       "version_major": 2,
       "version_minor": 0
      },
      "text/plain": [
       "A Jupyter Widget"
      ]
     },
     "metadata": {},
     "output_type": "display_data"
    },
    {
     "name": "stdout",
     "output_type": "stream",
     "text": [
      "Epoch 1/16\n"
     ]
    },
    {
     "data": {
      "application/vnd.jupyter.widget-view+json": {
       "model_id": "7ed6da35f8754e528df3f5ffebcd3ce1",
       "version_major": 2,
       "version_minor": 0
      },
      "text/plain": [
       "A Jupyter Widget"
      ]
     },
     "metadata": {},
     "output_type": "display_data"
    },
    {
     "name": "stdout",
     "output_type": "stream",
     "text": [
      " - 25716s - loss: 0.8296 - categorical_crossentropy: 0.8296 - categorical_accuracy: 0.7846 - top_3_accuracy: 0.9181 - val_loss: 0.7283 - val_categorical_crossentropy: 0.7283 - val_categorical_accuracy: 0.8084 - val_top_3_accuracy: 0.9310\n",
      "Epoch 2/16\n"
     ]
    },
    {
     "data": {
      "application/vnd.jupyter.widget-view+json": {
       "model_id": "7f7a12190f094c35b5fab5fb5240a8d6",
       "version_major": 2,
       "version_minor": 0
      },
      "text/plain": [
       "A Jupyter Widget"
      ]
     },
     "metadata": {},
     "output_type": "display_data"
    },
    {
     "name": "stdout",
     "output_type": "stream",
     "text": [
      " - 25193s - loss: 0.7406 - categorical_crossentropy: 0.7406 - categorical_accuracy: 0.8073 - top_3_accuracy: 0.9292 - val_loss: 0.7351 - val_categorical_crossentropy: 0.7351 - val_categorical_accuracy: 0.8072 - val_top_3_accuracy: 0.9297\n",
      "Epoch 3/16\n"
     ]
    },
    {
     "data": {
      "application/vnd.jupyter.widget-view+json": {
       "model_id": "826175c79c3c4f3eadfe53518423d109",
       "version_major": 2,
       "version_minor": 0
      },
      "text/plain": [
       "A Jupyter Widget"
      ]
     },
     "metadata": {},
     "output_type": "display_data"
    },
    {
     "name": "stdout",
     "output_type": "stream",
     "text": [
      " - 25366s - loss: 0.7196 - categorical_crossentropy: 0.7196 - categorical_accuracy: 0.8134 - top_3_accuracy: 0.9316 - val_loss: 0.8558 - val_categorical_crossentropy: 0.8558 - val_categorical_accuracy: 0.7755 - val_top_3_accuracy: 0.9162\n",
      "\n",
      "Epoch 00003: ReduceLROnPlateau reducing learning rate to 0.00020000000949949026.\n",
      "Epoch 4/16\n"
     ]
    },
    {
     "data": {
      "application/vnd.jupyter.widget-view+json": {
       "model_id": "36cb042ca1324098a80bba61d15449cb",
       "version_major": 2,
       "version_minor": 0
      },
      "text/plain": [
       "A Jupyter Widget"
      ]
     },
     "metadata": {},
     "output_type": "display_data"
    },
    {
     "name": "stdout",
     "output_type": "stream",
     "text": [
      " - 25389s - loss: 0.6226 - categorical_crossentropy: 0.6226 - categorical_accuracy: 0.8372 - top_3_accuracy: 0.9426 - val_loss: 0.5819 - val_categorical_crossentropy: 0.5819 - val_categorical_accuracy: 0.8458 - val_top_3_accuracy: 0.9474\n",
      "Epoch 5/16\n"
     ]
    },
    {
     "data": {
      "application/vnd.jupyter.widget-view+json": {
       "model_id": "d1a138f0890143d48c462f202f994ca0",
       "version_major": 2,
       "version_minor": 0
      },
      "text/plain": [
       "A Jupyter Widget"
      ]
     },
     "metadata": {},
     "output_type": "display_data"
    }
   ],
   "source": [
    "hist = model.fit_generator( train_datagen, steps_per_epoch=STEPS, validation_data=valid_datagen\n",
    "                           , validation_steps=num_val//batchsize,\n",
    "                           epochs=EPOCHS, verbose=2,   callbacks = callbacks )\n",
    "hists.append(hist)"
   ]
  },
  {
   "cell_type": "code",
   "execution_count": null,
   "metadata": {
    "collapsed": true
   },
   "outputs": [],
   "source": [
    "hist = model.fit_generator( train_datagen, steps_per_epoch=STEPS, validation_data=valid_datagen\n",
    "                           , validation_steps=num_val//batchsize,\n",
    "                           epochs=EPOCHS, verbose=2,   callbacks = callbacks )\n",
    "hists.append(hist)"
   ]
  },
  {
   "cell_type": "code",
   "execution_count": null,
   "metadata": {
    "collapsed": true
   },
   "outputs": [],
   "source": [
    "best_epoch = np.argmin(hist.history['val_loss']).astype(int)\n",
    "best_top3_score = str(int(np.round(hist.history['val_top_3_accuracy'][best_epoch]*10000,0)))\n",
    "num_timgs = str(ONE_EPOCH_IMGS*len(hist.epoch)//1000//1000)+'M'\n",
    "sub_prefix = model_name+'_timgs_'+ num_timgs+'_localT3acc_'+best_top3_score\n",
    "probs_file_path = './probs/' + sub_prefix+ '.npy'\n",
    "sub_file_path = './subs/' + sub_prefix+ '.csv'\n",
    "hist_file_path = './hists/' + sub_prefix + '.png'"
   ]
  },
  {
   "cell_type": "code",
   "execution_count": null,
   "metadata": {
    "_uuid": "05767778d356bc63b7cded355159fd4082eee1a5",
    "collapsed": true
   },
   "outputs": [],
   "source": [
    "hist_df = pd.concat([pd.DataFrame(hist.history) for hist in hists], sort=True)\n",
    "hist_df.index = np.arange(1, len(hist_df)+1)\n",
    "fig, axs = plt.subplots(nrows=2, sharex=True, figsize=(16, 10))\n",
    "axs[0].plot(hist_df.val_categorical_accuracy, lw=5, label='Validation Accuracy')\n",
    "axs[0].plot(hist_df.categorical_accuracy, lw=5, label='Training Accuracy')\n",
    "axs[0].set_ylabel('Accuracy')\n",
    "axs[0].set_xlabel('Epoch')\n",
    "axs[0].grid()\n",
    "axs[0].legend(loc=0)\n",
    "axs[1].plot(hist_df.val_categorical_crossentropy, lw=5, label='Validation MLogLoss')\n",
    "axs[1].plot(hist_df.categorical_crossentropy, lw=5, label='Training MLogLoss')\n",
    "axs[1].set_ylabel('MLogLoss')\n",
    "axs[1].set_xlabel('Epoch')\n",
    "axs[1].grid()\n",
    "axs[1].legend(loc=0)\n",
    "fig.savefig(hist_file_path, dpi=300)\n",
    "plt.show();"
   ]
  },
  {
   "cell_type": "markdown",
   "metadata": {
    "_uuid": "be4577a9ba00611697eea8f241a42c504981e86f"
   },
   "source": [
    "## Create Submission"
   ]
  },
  {
   "cell_type": "code",
   "execution_count": null,
   "metadata": {
    "_uuid": "a7d14348150baf753e90cf2719b9f31dd564f6a2",
    "collapsed": true
   },
   "outputs": [],
   "source": [
    "test = pd.read_csv(os.path.join(INPUT_DIR, 'test_simplified.csv'))\n",
    "test.head()\n",
    "x_test = df_to_image_array_xd(test, size, channels=input_shape[2])\n",
    "print(test.shape, x_test.shape)\n",
    "print('Test array memory {:.2f} GB'.format(x_test.nbytes / 1024.**3 ))"
   ]
  },
  {
   "cell_type": "code",
   "execution_count": null,
   "metadata": {
    "_uuid": "608b02f5c7909ae62becbe5c931b7264171296e8",
    "collapsed": true
   },
   "outputs": [],
   "source": [
    "test_predictions = model.predict(x_test, batch_size=batchsize, verbose=1)\n",
    "top3 = preds2catids(test_predictions)\n",
    "cats = list_all_categories()\n",
    "id2cat = {k: cat.replace(' ', '_') for k, cat in enumerate(cats)}\n",
    "top3cats = top3.replace(id2cat)\n",
    "\n",
    "np.save(probs_file_path,test_predictions)\n",
    "test['word'] = top3cats['a'] + ' ' + top3cats['b'] + ' ' + top3cats['c']\n",
    "submission = test[['key_id', 'word']]\n",
    "submission.to_csv(sub_file_path, index=False)\n",
    "submission.head()\n",
    "submission.shape"
   ]
  },
  {
   "cell_type": "code",
   "execution_count": null,
   "metadata": {
    "collapsed": true
   },
   "outputs": [],
   "source": []
  }
 ],
 "metadata": {
  "kernelspec": {
   "display_name": "Python 3",
   "language": "python",
   "name": "python3"
  },
  "language_info": {
   "codemirror_mode": {
    "name": "ipython",
    "version": 3
   },
   "file_extension": ".py",
   "mimetype": "text/x-python",
   "name": "python",
   "nbconvert_exporter": "python",
   "pygments_lexer": "ipython3",
   "version": "3.5.4"
  }
 },
 "nbformat": 4,
 "nbformat_minor": 1
}
