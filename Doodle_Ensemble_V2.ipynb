{
 "cells": [
  {
   "cell_type": "code",
   "execution_count": 487,
   "metadata": {
    "_kg_hide-input": true,
    "_uuid": "ce6d2aa7de1fa341144def7d3a5b1ffdea26bc91"
   },
   "outputs": [],
   "source": [
    "%matplotlib inline\n",
    "from IPython.core.interactiveshell import InteractiveShell\n",
    "InteractiveShell.ast_node_interactivity = \"all\"\n",
    "import os\n",
    "import cv2\n",
    "import pandas as pd\n",
    "import gc\n",
    "import numpy as np\n",
    "from tqdm import tqdm_notebook, tqdm"
   ]
  },
  {
   "cell_type": "code",
   "execution_count": 558,
   "metadata": {},
   "outputs": [],
   "source": [
    "\n",
    "def f2cat(filename: str) -> str:\n",
    "    return filename.split('.')[0]\n",
    "\n",
    "def list_all_categories():\n",
    "    files = os.listdir(os.path.join(INPUT_DIR, 'train_simplified'))\n",
    "    return sorted([f2cat(f) for f in files], key=str.lower)\n",
    "def apk(actual, predicted, k=3):\n",
    "    \"\"\"\n",
    "    Source: https://github.com/benhamner/Metrics/blob/master/Python/ml_metrics/average_precision.py\n",
    "    \"\"\"\n",
    "    if len(predicted) > k:\n",
    "        predicted = predicted[:k]\n",
    "    score = 0.0\n",
    "    num_hits = 0.0\n",
    "    for i, p in enumerate(predicted):\n",
    "        if p in actual and p not in predicted[:i]:\n",
    "            num_hits += 1.0\n",
    "            score += num_hits / (i + 1.0)\n",
    "    if not actual:\n",
    "        return 0.0\n",
    "    return score / min(len(actual), k)\n",
    "\n",
    "def mapk(actual, predicted, k=3):\n",
    "    \"\"\"\n",
    "    Source: https://github.com/benhamner/Metrics/blob/master/Python/ml_metrics/average_precision.py\n",
    "    \"\"\"\n",
    "    return np.mean([apk(a, p, k) for a, p in zip(actual, predicted)])\n",
    "\n",
    "def preds2catids(predictions):\n",
    "    return pd.DataFrame(np.argsort(-predictions, axis=1)[:, :3], columns=['a', 'b', 'c'])\n",
    "\n",
    "def top_3_accuracy(y_true, y_pred):\n",
    "    return top_k_categorical_accuracy(y_true, y_pred, k=3)"
   ]
  },
  {
   "cell_type": "code",
   "execution_count": 569,
   "metadata": {
    "_kg_hide-input": true,
    "_uuid": "b2fcd1a08ae1ae0619be38a113a244eb6515b63b",
    "scrolled": true
   },
   "outputs": [
    {
     "name": "stdout",
     "output_type": "stream",
     "text": [
      "InceptionResNetV2_is_(256, 256, 3)_bs_40_lf_None_vf_99_lr_0.0002_cum_30_timgs_24M_localT3acc_9501.npy\n",
      "rawInceptionResNetV2_is_(139, 139, 3)_bs_180_lf_None_vf_66_lr_0.002_cum_500_timgs_4M_localT3acc_9516.npy\n",
      "rawInceptionResNetV2_is_(139, 139, 3)_bs_180_lf_None_vf_66_ur_True_timgs_32M_localT3acc_9516.npy\n",
      "rawInceptionResNetV2_is_(256, 256, 3)_bs_40_lf_None_vf_9_lr_0.002_ur_True_cum_30_timgs_46M_localT3acc_9473.npy\n",
      "rawXception_is_(128, 128, 3)_bs_128_lf_None_vf_33_lr_0.002_ur_True_cum_1000_timgs_12M_localT3acc_9474.npy\n",
      "rawXception_is_(256, 256, 3)_bs_32_lf_None_vf_99_lr_0.002_cum_30_timgs_36M_localT3acc_9441.npy\n",
      "ResNet50_is_(256, 256, 3)_bs_50_lf_None_vf_0_lr_0.0002_cum_30_timgs_40M_localT3acc_9457.npy\n",
      "7\n"
     ]
    },
    {
     "data": {
      "application/vnd.jupyter.widget-view+json": {
       "model_id": "b426664ad1494248b8e42c3c497f5730",
       "version_major": 2,
       "version_minor": 0
      },
      "text/plain": [
       "HBox(children=(IntProgress(value=0, max=7), HTML(value='')))"
      ]
     },
     "metadata": {},
     "output_type": "display_data"
    },
    {
     "name": "stdout",
     "output_type": "stream",
     "text": [
      "\n"
     ]
    }
   ],
   "source": [
    "#DP_DIR = './input/shuffle-csvs/'\n",
    "INPUT_DIR = './input/'\n",
    "\n",
    "prob_dir = './probs/'\n",
    "ensemble_dir = './ensemble_prob/'\n",
    "sub_dir = './subs/'\n",
    "def load_npy(dirname):\n",
    "    cls_npy_list = []\n",
    "    filenames = os.listdir(dirname)\n",
    "    for filename in filenames:\n",
    "        full_filename = os.path.join(dirname, filename)\n",
    "        ext = os.path.splitext(full_filename)[-1]\n",
    "        if ext == '.npy' :#and filename.find('densenet121')>0:# and filename.find(select_prefix2)<0: \n",
    "            print(filename)\n",
    "            cls_npy_list.append(full_filename)\n",
    "    return cls_npy_list\n",
    "\n",
    "cls_npys = load_npy(prob_dir)\n",
    "print(len(cls_npys))\n",
    "\n",
    "clsnp = []\n",
    "local_score = []\n",
    "names = []\n",
    "for idx, cls in enumerate(tqdm_notebook(cls_npys)):\n",
    "    score = cls.split('_')[-1].replace('.npy','')\n",
    "    names.append(((cls.split('_')[0]).split('/')[-1])[:6]+score[:4])\n",
    "    local_score.append(int(score))\n",
    "    #print(score)\n",
    "    temp = np.load(cls)\n",
    "    clsnp.append(temp)\n",
    "    \n"
   ]
  },
  {
   "cell_type": "code",
   "execution_count": 570,
   "metadata": {},
   "outputs": [],
   "source": [
    "def get_score_w(local_score):\n",
    "    ls = np.array(local_score)\n",
    "    sub = ls - ls.min()\n",
    "    div = sub/sub.max()\n",
    "    add = div + 0.1\n",
    "    nor = add/add.max()\n",
    "    sqr = nor*nor\n",
    "    print(sqr)\n",
    "    return sqr\n",
    "\n",
    "def get_corr_w(clsnp):\n",
    "    corxlist=[]\n",
    "    for idx1, cls1 in enumerate((clsnp)):\n",
    "        corylist=[]\n",
    "        for idx2, cls2 in enumerate((clsnp)):\n",
    "            cor_max = np.corrcoef(np.argmax(clsnp[idx1],axis=1),np.argmax(clsnp[idx2],axis=1))[0][1]\n",
    "            corylist.append(cor_max)\n",
    "        corxlist.append(corylist)\n",
    "\n",
    "    df = pd.DataFrame(corxlist,columns=names, index=names)\n",
    "    #print(df)\n",
    "    corr_w = []\n",
    "    for i in range(df.shape[0]):\n",
    "        count = 0\n",
    "        thr = 0.95\n",
    "        for v in df.values[i]:\n",
    "            if v > thr :\n",
    "                count+=1\n",
    "        corr_w.append(1.0/count)   \n",
    "    return np.array(corr_w), df\n",
    "\n",
    "def getensemble_w(clsnp, local_score):\n",
    "    score_w = get_score_w(local_score)\n",
    "    for i in range(score_w.shape[0]):\n",
    "        if score_w[i]==1.0:\n",
    "            score_w[i] = 1.2 #max score add 20%\n",
    "    corr_w = get_corr_w(clsnp)[0]\n",
    "    ensemble_w = score_w*corr_w\n",
    "    return ensemble_w"
   ]
  },
  {
   "cell_type": "code",
   "execution_count": 573,
   "metadata": {},
   "outputs": [
    {
     "name": "stdout",
     "output_type": "stream",
     "text": [
      "sub [60 75 75 32 33  0 16]\n",
      "div [0.8        1.         1.         0.42666667 0.44       0.\n",
      " 0.21333333]\n",
      "add [0.9        1.1        1.1        0.52666667 0.54       0.1\n",
      " 0.31333333]\n",
      "[0.66942149 1.         1.         0.22923783 0.24099174 0.00826446\n",
      " 0.08113866]\n"
     ]
    },
    {
     "data": {
      "text/html": [
       "<div>\n",
       "<style scoped>\n",
       "    .dataframe tbody tr th:only-of-type {\n",
       "        vertical-align: middle;\n",
       "    }\n",
       "\n",
       "    .dataframe tbody tr th {\n",
       "        vertical-align: top;\n",
       "    }\n",
       "\n",
       "    .dataframe thead th {\n",
       "        text-align: right;\n",
       "    }\n",
       "</style>\n",
       "<table border=\"1\" class=\"dataframe\">\n",
       "  <thead>\n",
       "    <tr style=\"text-align: right;\">\n",
       "      <th></th>\n",
       "      <th>Incept9501</th>\n",
       "      <th>rawInc9516</th>\n",
       "      <th>rawInc9516</th>\n",
       "      <th>rawInc9473</th>\n",
       "      <th>rawXce9474</th>\n",
       "      <th>rawXce9441</th>\n",
       "      <th>ResNet9457</th>\n",
       "    </tr>\n",
       "  </thead>\n",
       "  <tbody>\n",
       "    <tr>\n",
       "      <th>Incept9501</th>\n",
       "      <td>1.000000</td>\n",
       "      <td>0.938674</td>\n",
       "      <td>0.937285</td>\n",
       "      <td>0.929651</td>\n",
       "      <td>0.935064</td>\n",
       "      <td>0.924573</td>\n",
       "      <td>0.947429</td>\n",
       "    </tr>\n",
       "    <tr>\n",
       "      <th>rawInc9516</th>\n",
       "      <td>0.938674</td>\n",
       "      <td>1.000000</td>\n",
       "      <td>0.973477</td>\n",
       "      <td>0.938433</td>\n",
       "      <td>0.944116</td>\n",
       "      <td>0.934933</td>\n",
       "      <td>0.933779</td>\n",
       "    </tr>\n",
       "    <tr>\n",
       "      <th>rawInc9516</th>\n",
       "      <td>0.937285</td>\n",
       "      <td>0.973477</td>\n",
       "      <td>1.000000</td>\n",
       "      <td>0.936875</td>\n",
       "      <td>0.943053</td>\n",
       "      <td>0.932677</td>\n",
       "      <td>0.932387</td>\n",
       "    </tr>\n",
       "    <tr>\n",
       "      <th>rawInc9473</th>\n",
       "      <td>0.929651</td>\n",
       "      <td>0.938433</td>\n",
       "      <td>0.936875</td>\n",
       "      <td>1.000000</td>\n",
       "      <td>0.933185</td>\n",
       "      <td>0.926541</td>\n",
       "      <td>0.927044</td>\n",
       "    </tr>\n",
       "    <tr>\n",
       "      <th>rawXce9474</th>\n",
       "      <td>0.935064</td>\n",
       "      <td>0.944116</td>\n",
       "      <td>0.943053</td>\n",
       "      <td>0.933185</td>\n",
       "      <td>1.000000</td>\n",
       "      <td>0.939055</td>\n",
       "      <td>0.933180</td>\n",
       "    </tr>\n",
       "    <tr>\n",
       "      <th>rawXce9441</th>\n",
       "      <td>0.924573</td>\n",
       "      <td>0.934933</td>\n",
       "      <td>0.932677</td>\n",
       "      <td>0.926541</td>\n",
       "      <td>0.939055</td>\n",
       "      <td>1.000000</td>\n",
       "      <td>0.924680</td>\n",
       "    </tr>\n",
       "    <tr>\n",
       "      <th>ResNet9457</th>\n",
       "      <td>0.947429</td>\n",
       "      <td>0.933779</td>\n",
       "      <td>0.932387</td>\n",
       "      <td>0.927044</td>\n",
       "      <td>0.933180</td>\n",
       "      <td>0.924680</td>\n",
       "      <td>1.000000</td>\n",
       "    </tr>\n",
       "  </tbody>\n",
       "</table>\n",
       "</div>"
      ],
      "text/plain": [
       "            Incept9501  rawInc9516  rawInc9516  rawInc9473  rawXce9474  \\\n",
       "Incept9501    1.000000    0.938674    0.937285    0.929651    0.935064   \n",
       "rawInc9516    0.938674    1.000000    0.973477    0.938433    0.944116   \n",
       "rawInc9516    0.937285    0.973477    1.000000    0.936875    0.943053   \n",
       "rawInc9473    0.929651    0.938433    0.936875    1.000000    0.933185   \n",
       "rawXce9474    0.935064    0.944116    0.943053    0.933185    1.000000   \n",
       "rawXce9441    0.924573    0.934933    0.932677    0.926541    0.939055   \n",
       "ResNet9457    0.947429    0.933779    0.932387    0.927044    0.933180   \n",
       "\n",
       "            rawXce9441  ResNet9457  \n",
       "Incept9501    0.924573    0.947429  \n",
       "rawInc9516    0.934933    0.933779  \n",
       "rawInc9516    0.932677    0.932387  \n",
       "rawInc9473    0.926541    0.927044  \n",
       "rawXce9474    0.939055    0.933180  \n",
       "rawXce9441    1.000000    0.924680  \n",
       "ResNet9457    0.924680    1.000000  "
      ]
     },
     "execution_count": 573,
     "metadata": {},
     "output_type": "execute_result"
    },
    {
     "name": "stdout",
     "output_type": "stream",
     "text": [
      "ensemble weight [0.66942149 0.6        0.6        0.22923783 0.24099174 0.00826446\n",
      " 0.08113866]\n"
     ]
    }
   ],
   "source": [
    "ensemble_w = getensemble_w(clsnp, local_score)\n",
    "cor_df = get_corr_w(clsnp)[1]\n",
    "cor_df\n",
    "print('ensemble weight', ensemble_w)"
   ]
  },
  {
   "cell_type": "code",
   "execution_count": 565,
   "metadata": {},
   "outputs": [
    {
     "name": "stdout",
     "output_type": "stream",
     "text": [
      "[0.60551452 0.7        0.7        0.15861997 0.16885063 0.00249183\n",
      " 0.04330468]\n",
      "2.378781624882278\n"
     ]
    }
   ],
   "source": [
    "print(ensemble_w)\n",
    "print(ensemble_w.sum())"
   ]
  },
  {
   "cell_type": "markdown",
   "metadata": {
    "_uuid": "be4577a9ba00611697eea8f241a42c504981e86f"
   },
   "source": [
    "## Create Submission"
   ]
  },
  {
   "cell_type": "code",
   "execution_count": 566,
   "metadata": {
    "_uuid": "a7d14348150baf753e90cf2719b9f31dd564f6a2"
   },
   "outputs": [],
   "source": [
    "test = pd.read_csv(os.path.join(INPUT_DIR, 'test_simplified.csv'))"
   ]
  },
  {
   "cell_type": "code",
   "execution_count": 567,
   "metadata": {},
   "outputs": [
    {
     "name": "stdout",
     "output_type": "stream",
     "text": [
      "2.378781624882278\n"
     ]
    },
    {
     "data": {
      "application/vnd.jupyter.widget-view+json": {
       "model_id": "934ddbde864d4cb9bd22fdf7fb24bd35",
       "version_major": 2,
       "version_minor": 0
      },
      "text/plain": [
       "HBox(children=(IntProgress(value=0, max=7), HTML(value='')))"
      ]
     },
     "metadata": {},
     "output_type": "display_data"
    },
    {
     "name": "stdout",
     "output_type": "stream",
     "text": [
      "\n"
     ]
    }
   ],
   "source": [
    "wsum = np.sum(ensemble_w)\n",
    "print(wsum)\n",
    "\n",
    "for idx, cls in enumerate(tqdm_notebook(cls_npys)):\n",
    "    temp = np.load(cls)\n",
    "    if idx == 0 :\n",
    "        cls_sum=temp*ensemble_w[0]\n",
    "    else:\n",
    "        cls_sum+=temp*ensemble_w[idx]\n",
    "        \n",
    "cls_sum=cls_sum/wsum\n",
    "pre_fix = str(len(cls_npys))+ '_ensemble'\n",
    "np.save(ensemble_dir+ pre_fix+'.npy',cls_sum)"
   ]
  },
  {
   "cell_type": "code",
   "execution_count": 568,
   "metadata": {
    "_uuid": "608b02f5c7909ae62becbe5c931b7264171296e8"
   },
   "outputs": [
    {
     "data": {
      "text/html": [
       "<div>\n",
       "<style scoped>\n",
       "    .dataframe tbody tr th:only-of-type {\n",
       "        vertical-align: middle;\n",
       "    }\n",
       "\n",
       "    .dataframe tbody tr th {\n",
       "        vertical-align: top;\n",
       "    }\n",
       "\n",
       "    .dataframe thead th {\n",
       "        text-align: right;\n",
       "    }\n",
       "</style>\n",
       "<table border=\"1\" class=\"dataframe\">\n",
       "  <thead>\n",
       "    <tr style=\"text-align: right;\">\n",
       "      <th></th>\n",
       "      <th>key_id</th>\n",
       "      <th>word</th>\n",
       "    </tr>\n",
       "  </thead>\n",
       "  <tbody>\n",
       "    <tr>\n",
       "      <th>0</th>\n",
       "      <td>9000003627287624</td>\n",
       "      <td>radio stereo remote_control</td>\n",
       "    </tr>\n",
       "    <tr>\n",
       "      <th>1</th>\n",
       "      <td>9000010688666847</td>\n",
       "      <td>hockey_puck bottlecap pool</td>\n",
       "    </tr>\n",
       "    <tr>\n",
       "      <th>2</th>\n",
       "      <td>9000023642890129</td>\n",
       "      <td>The_Great_Wall_of_China castle camel</td>\n",
       "    </tr>\n",
       "    <tr>\n",
       "      <th>3</th>\n",
       "      <td>9000038588854897</td>\n",
       "      <td>mountain finger The_Eiffel_Tower</td>\n",
       "    </tr>\n",
       "    <tr>\n",
       "      <th>4</th>\n",
       "      <td>9000052667981386</td>\n",
       "      <td>campfire fireplace fire_hydrant</td>\n",
       "    </tr>\n",
       "  </tbody>\n",
       "</table>\n",
       "</div>"
      ],
      "text/plain": [
       "             key_id                                  word\n",
       "0  9000003627287624           radio stereo remote_control\n",
       "1  9000010688666847            hockey_puck bottlecap pool\n",
       "2  9000023642890129  The_Great_Wall_of_China castle camel\n",
       "3  9000038588854897      mountain finger The_Eiffel_Tower\n",
       "4  9000052667981386       campfire fireplace fire_hydrant"
      ]
     },
     "execution_count": 568,
     "metadata": {},
     "output_type": "execute_result"
    },
    {
     "data": {
      "text/plain": [
       "(112199, 2)"
      ]
     },
     "execution_count": 568,
     "metadata": {},
     "output_type": "execute_result"
    }
   ],
   "source": [
    "#test_predictions = model.predict(x_test, batch_size=128, verbose=1)\n",
    "top3 = preds2catids(cls_sum)\n",
    "cats = list_all_categories()\n",
    "id2cat = {k: cat.replace(' ', '_') for k, cat in enumerate(cats)}\n",
    "top3cats = top3.replace(id2cat)\n",
    "\n",
    "test['word'] = top3cats['a'] + ' ' + top3cats['b'] + ' ' + top3cats['c']\n",
    "submission = test[['key_id', 'word']]\n",
    "submission.to_csv(sub_dir + pre_fix + '.csv', index=False)\n",
    "submission.head()\n",
    "submission.shape"
   ]
  },
  {
   "cell_type": "code",
   "execution_count": null,
   "metadata": {},
   "outputs": [],
   "source": []
  }
 ],
 "metadata": {
  "kernelspec": {
   "display_name": "py36",
   "language": "python",
   "name": "py36"
  },
  "language_info": {
   "codemirror_mode": {
    "name": "ipython",
    "version": 3
   },
   "file_extension": ".py",
   "mimetype": "text/x-python",
   "name": "python",
   "nbconvert_exporter": "python",
   "pygments_lexer": "ipython3",
   "version": "3.6.6"
  }
 },
 "nbformat": 4,
 "nbformat_minor": 1
}
